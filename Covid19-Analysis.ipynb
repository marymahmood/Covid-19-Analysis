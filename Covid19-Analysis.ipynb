{
 "cells": [
  {
   "cell_type": "code",
   "execution_count": null,
   "id": "db31e367",
   "metadata": {},
   "outputs": [],
   "source": [
    "import plotly.express as px\n",
    "import plotly as py\n",
    "import plotly.graph_objects as go\n",
    "import plotly.figure_factory as ff\n",
    "from plotly.subplots import make_subplots\n",
    "import folium \n",
    "import pandas as pd\n",
    "import numpy as np\n",
    "import matplotlib.pyplot as plt\n",
    "%matplotlib inline\n",
    "import math\n",
    "import random\n",
    "from datetime import timedelta\n",
    "import warnings\n",
    "warnings.filterwarnings('ignore')\n",
    "import os\n",
    "#color pallete\n",
    "cnf = '#393e46'\n",
    "dth = '#ff2e63'\n",
    "rec = '#21bf73'\n",
    "act = '#fe9801'"
   ]
  },
  {
   "cell_type": "code",
   "execution_count": null,
   "id": "7bf2195e",
   "metadata": {
    "scrolled": false
   },
   "outputs": [],
   "source": [
    "df = pd.read_csv(r'C:\\Users\\marya\\Desktop\\Covid-19-Preprocessed-Dataset-main\\preprocessed\\covid_19_data_cleaned.csv',parse_dates=['Date'])\n",
    "\n",
    "country_daywise = pd.read_csv(r'C:\\Users\\marya\\Desktop\\Covid-19-Preprocessed-Dataset-main\\preprocessed\\country_daywise.csv',parse_dates=['Date'])\n",
    "countrywise = pd.read_csv(r'C:\\Users\\marya\\Desktop\\Covid-19-Preprocessed-Dataset-main\\preprocessed\\countrywise.csv')\n",
    "daywise = pd.read_csv(r'C:\\Users\\marya\\Desktop\\Covid-19-Preprocessed-Dataset-main\\preprocessed\\daywise.csv',parse_dates=['Date'])\n"
   ]
  },
  {
   "cell_type": "code",
   "execution_count": null,
   "id": "2264ce3a",
   "metadata": {},
   "outputs": [],
   "source": [
    "df['Province/State'] = df['Province/State'].fillna(\"\")\n",
    "df.head()"
   ]
  },
  {
   "cell_type": "code",
   "execution_count": null,
   "id": "9a8857ce",
   "metadata": {},
   "outputs": [],
   "source": [
    "confirmed = df.groupby('Date').sum()['Confirmed'].reset_index()\n",
    "recovered = df.groupby('Date').sum()['Recovered'].reset_index()\n",
    "deaths = df.groupby('Date').sum()['Deaths'].reset_index()\n",
    "\n",
    "confirmed"
   ]
  },
  {
   "cell_type": "code",
   "execution_count": null,
   "id": "20446751",
   "metadata": {},
   "outputs": [],
   "source": [
    "df.isnull().sum()"
   ]
  },
  {
   "cell_type": "code",
   "execution_count": null,
   "id": "5ff870a5",
   "metadata": {},
   "outputs": [],
   "source": [
    "df.query('Country == \"US\"')"
   ]
  },
  {
   "cell_type": "markdown",
   "id": "d224fd72",
   "metadata": {},
   "source": [
    "# Worldwide Total Confirmed, Recovered, and Deaths\n"
   ]
  },
  {
   "cell_type": "code",
   "execution_count": null,
   "id": "8997344f",
   "metadata": {},
   "outputs": [],
   "source": [
    "confirmed.tail()"
   ]
  },
  {
   "cell_type": "code",
   "execution_count": null,
   "id": "b1a00c89",
   "metadata": {},
   "outputs": [],
   "source": [
    "recovered.head()"
   ]
  },
  {
   "cell_type": "code",
   "execution_count": null,
   "id": "dd075999",
   "metadata": {},
   "outputs": [],
   "source": [
    "recovered.head()"
   ]
  },
  {
   "cell_type": "code",
   "execution_count": null,
   "id": "ea52968d",
   "metadata": {},
   "outputs": [],
   "source": [
    "deaths.tail()"
   ]
  },
  {
   "cell_type": "code",
   "execution_count": null,
   "id": "e3c2b7b8",
   "metadata": {},
   "outputs": [],
   "source": [
    "fig = go.Figure()\n",
    "fig.add_trace(go.Scatter(x = confirmed['Date'], y = confirmed['Confirmed'], mode= 'lines+markers', name = 'Confirmed',line= dict(color='Orange', width = 1 )))\n",
    "fig.add_trace(go.Scatter(x = confirmed['Date'], y = recovered['Recovered'], mode= 'lines+markers', name = 'Recovered',line= dict(color='Blue', width = 1 )))\n",
    "fig.add_trace(go.Scatter(x = confirmed['Date'], y = deaths['Deaths'], mode= 'lines+markers', name = 'Deaths',line= dict(color='Red', width = 1 )))\n",
    "fig.update_layout(title = 'Worldwide Covid-19 Cases', xaxis_tickfont_size = 14, yaxis = dict(title = 'Number of Cases'))\n",
    "\n",
    "fig.show()"
   ]
  },
  {
   "cell_type": "markdown",
   "id": "dec877c8",
   "metadata": {},
   "source": [
    "# Cases Density Animation on WorldMap"
   ]
  },
  {
   "cell_type": "code",
   "execution_count": null,
   "id": "8c3ea888",
   "metadata": {},
   "outputs": [],
   "source": [
    "df['Date'] = df['Date'].astype(str)"
   ]
  },
  {
   "cell_type": "code",
   "execution_count": null,
   "id": "d8bb47a0",
   "metadata": {},
   "outputs": [],
   "source": [
    "fig = px.density_mapbox(df, lat = 'Lat', lon = 'Long',hover_name = 'Country',hover_data=['Confirmed','Recovered','Deaths'], animation_frame = 'Date', color_continuous_scale = 'Portland', radius = 7, zoom = 0, height = 700)\n",
    "fig.update_layout(title = 'Worldwide Covid-19 Cases with Time Lapse')\n",
    "fig.update_layout(mapbox_style = 'open-street-map',mapbox_center_lon = 0)\n",
    "\n",
    "fig.show()"
   ]
  },
  {
   "cell_type": "markdown",
   "id": "ad70139a",
   "metadata": {},
   "source": [
    "# Total Cases on Ships"
   ]
  },
  {
   "cell_type": "code",
   "execution_count": null,
   "id": "47156f5b",
   "metadata": {},
   "outputs": [],
   "source": [
    "df['Date'] = pd.to_datetime(df['Date'])\n",
    "df.info()"
   ]
  },
  {
   "cell_type": "code",
   "execution_count": null,
   "id": "69a05558",
   "metadata": {},
   "outputs": [],
   "source": [
    "ship_rows = df['Country'].str.contains('India') | df['Country'].str.contains('Italy') | df['Country'].str.contains('US')\n",
    "ship = df[ship_rows]\n",
    "\n",
    "df = df[~ship_rows]"
   ]
  },
  {
   "cell_type": "code",
   "execution_count": null,
   "id": "e80323fe",
   "metadata": {},
   "outputs": [],
   "source": [
    "ship_latest = ship[ship['Date'] == max(ship['Date'])]\n",
    "ship_latest"
   ]
  },
  {
   "cell_type": "code",
   "execution_count": null,
   "id": "96bfb3ff",
   "metadata": {},
   "outputs": [],
   "source": [
    "ship_latest.style.background_gradient(cmap = 'Pastel1_r')"
   ]
  },
  {
   "cell_type": "markdown",
   "id": "cb159767",
   "metadata": {},
   "source": [
    "# Cases Over the Time with Area Plot"
   ]
  },
  {
   "cell_type": "code",
   "execution_count": null,
   "id": "b74fba50",
   "metadata": {},
   "outputs": [],
   "source": [
    "temp = df.groupby('Date')['Confirmed','Deaths','Recovered','Active'].sum()\n",
    "temp.tail(1)\n",
    "\n",
    "tm = temp.melt(value_vars = ['Active','Deaths','Recovered'])\n",
    "fig = px.treemap(tm, path = ['variable'], values = 'value', height = 250, width = 800, color_discrete_sequence = [act, rec, dth])\n",
    "\n",
    "fig.data[0].textinfo = 'label+text+value'\n",
    "fig.show()"
   ]
  },
  {
   "cell_type": "code",
   "execution_count": null,
   "id": "06d220d0",
   "metadata": {},
   "outputs": [],
   "source": [
    "temp.tail(1)"
   ]
  },
  {
   "cell_type": "code",
   "execution_count": null,
   "id": "35cd2ccd",
   "metadata": {},
   "outputs": [],
   "source": [
    "temp = df.groupby('Date')['Recovered','Deaths','Active'].sum().reset_index()\n",
    "temp = temp.melt(id_vars = 'Date', value_vars = ['Recovered','Deaths','Active'],var_name = 'Case',value_name = 'Count')\n",
    "\n",
    "fig = px.area(temp, x='Date',y='Count',color='Case',height=600, title='Cases over time',color_discrete_sequence=[rec,dth,act])\n",
    "fig.update_layout(xaxis_rangeslider_visible=True)\n",
    "fig.show()"
   ]
  },
  {
   "cell_type": "markdown",
   "id": "c6380fe6",
   "metadata": {},
   "source": [
    "# Worldwide Cases on Folum Maps"
   ]
  },
  {
   "cell_type": "code",
   "execution_count": null,
   "id": "2501531f",
   "metadata": {},
   "outputs": [],
   "source": [
    "temp = df[df['Date']==max(df['Date'])]\n",
    "m= folium.Map(location=[0,0], tiles='cartodbpositron',min_zoom = 1, max_zoom = 4, zoom_start=1)\n",
    "for i in range(0, len(temp)):\n",
    "    folium.Circle(location = [temp.iloc[i]['Lat'], temp.iloc[i]['Long']],color='crimson',fill='crimson', \n",
    "                  tooltip = '<li><bold> Country: '+str(temp.iloc[i]['Country'])+\n",
    "                            '<li><bold> Province: '+str(temp.iloc[i]['Province/State'])+\n",
    "                            '<li><bold> Confirmed: '+str(temp.iloc[i]['Confirmed'])+\n",
    "                            '<li><bold> Deaths: '+str(temp.iloc[i]['Deaths']),\n",
    "                  radius = int(temp.iloc[i]['Confirmed'])**0.5).add_to(m)\n",
    "m    \n"
   ]
  },
  {
   "cell_type": "markdown",
   "id": "8cd7343c",
   "metadata": {},
   "source": [
    "# Confirmed Cases with Choropleth Map"
   ]
  },
  {
   "cell_type": "code",
   "execution_count": null,
   "id": "c7b6f3e8",
   "metadata": {},
   "outputs": [],
   "source": [
    "fig = px.choropleth(country_daywise,locations = 'Country', locationmode = 'country names', color = np.log(country_daywise['Confirmed']),\n",
    "                   hover_name = 'Country', animation_frame=country_daywise['Date'].dt.strftime('%Y-%m-%d'),\n",
    "                   title='Cases over time', color_continuous_scale=px.colors.sequential.Inferno)\n",
    "fig.update(layout_coloraxis_showscale = True)\n",
    "fig.show()"
   ]
  },
  {
   "cell_type": "code",
   "execution_count": null,
   "id": "6fe3d38b",
   "metadata": {},
   "outputs": [],
   "source": [
    "daywise.head()"
   ]
  },
  {
   "cell_type": "code",
   "execution_count": null,
   "id": "13978f1e",
   "metadata": {},
   "outputs": [],
   "source": [
    "fig_c = px.bar(daywise, x = 'Date', y = 'Confirmed', color_discrete_sequence=[act])\n",
    "fig_d = px.bar(daywise, x = 'Date', y = 'Deaths', color_discrete_sequence=[dth])\n",
    "\n",
    "fig = make_subplots(rows = 1, cols = 2, shared_xaxes = False, horizontal_spacing = 0.1,\n",
    "                  subplot_titles=('Confirmed Cases','Deaths Cases'))\n",
    "fig.add_trace(fig_c['data'][0], row = 1, col=1)\n",
    "fig.add_trace(fig_d['data'][0], row = 1, col=2)\n",
    "\n",
    "fig.update_layout(height=400)\n",
    "\n",
    "fig.show()"
   ]
  },
  {
   "cell_type": "markdown",
   "id": "273cd0c9",
   "metadata": {},
   "source": [
    "# Confirmed and Death Cases with Static Colormap"
   ]
  },
  {
   "cell_type": "code",
   "execution_count": null,
   "id": "7b47cd86",
   "metadata": {},
   "outputs": [],
   "source": [
    "fig_c = px.choropleth(countrywise, locations='Country',locationmode='country names',\n",
    "                     color = np.log(countrywise['Confirmed']), hover_name = 'Country',\n",
    "                     hover_data = ['Confirmed'])\n",
    "temp = countrywise[countrywise['Deaths']>0]\n",
    "fig_d = px.choropleth(temp, locations='Country',locationmode='country names',\n",
    "                     color = np.log(temp['Deaths']), hover_name = 'Country',\n",
    "                     hover_data = ['Deaths'])\n",
    "\n",
    "fig = make_subplots(rows = 1, cols=2, subplot_titles=['Confirmed','Deaths'],\n",
    "                   specs = [[{'type':'choropleth'},{'type':'choropleth'}]])\n",
    "\n",
    "fig.add_trace(fig_c['data'][0], row=1,col=1)\n",
    "fig.add_trace(fig_d['data'][0], row=1,col=2)\n",
    "\n",
    "fig.update(layout_coloraxis_showscale = False)\n",
    "\n",
    "fig.show()                                                    "
   ]
  },
  {
   "cell_type": "code",
   "execution_count": null,
   "id": "406dcfaf",
   "metadata": {},
   "outputs": [],
   "source": [
    "fig1 = px.line(daywise, x='Date', y='Deaths / 100 Cases', color_discrete_sequence=[dth])\n",
    "fig2 = px.line(daywise, x='Date', y='Recovered / 100 Cases', color_discrete_sequence=[rec])\n",
    "fig3 = px.line(daywise, x='Date', y='Deaths / 100 Recovered', color_discrete_sequence=['black'])\n",
    "\n",
    "fig = make_subplots(rows = 1, cols = 3, shared_xaxes=False,\n",
    "                   subplot_titles=('Deaths / 100 Cases','Recovered / 100 Cases'))\n",
    "\n",
    "fig.add_trace(fig1['data'][0], row =1, col=1)\n",
    "fig.add_trace(fig2['data'][0], row =1, col=2)\n",
    "fig.add_trace(fig3['data'][0], row =1, col=3)\n",
    "\n",
    "fig.update_layout(height = 400)\n",
    "fig.show()\n",
    "\n"
   ]
  },
  {
   "cell_type": "markdown",
   "id": "dd0dab02",
   "metadata": {},
   "source": [
    "# New Cases and No. of Countries"
   ]
  },
  {
   "cell_type": "code",
   "execution_count": null,
   "id": "d5c7240e",
   "metadata": {},
   "outputs": [],
   "source": [
    "fig_c = px.bar(daywise, x='Date',y='Confirmed',color_discrete_sequence=[act])\n",
    "fig_d = px.bar(daywise, x='Date',y='No. of Countries',color_discrete_sequence=[dth])\n",
    "\n",
    "fig = make_subplots(rows =1, cols = 2, shared_xaxes=False, horizontal_spacing=0.1,\n",
    "                   subplot_titles=('No. of New Cases per Day','No. of Countries'))\n",
    "\n",
    "fig.add_trace(fig_c['data'][0],row=1,col=1)\n",
    "fig.add_trace(fig_d['data'][0],row=1,col=2)\n",
    "\n",
    "fig.show()"
   ]
  },
  {
   "cell_type": "markdown",
   "id": "b2fc3fc1",
   "metadata": {},
   "source": [
    "# Top 15 Countries Case Analysis"
   ]
  },
  {
   "cell_type": "code",
   "execution_count": null,
   "id": "cefc7e96",
   "metadata": {
    "scrolled": true
   },
   "outputs": [],
   "source": [
    "top = 15\n",
    "fig_c = px.bar(countrywise.sort_values('Confirmed').tail(top), x='Confirmed',\n",
    "              y='Country', text = 'Confirmed', orientation = 'h', color_discrete_sequence=[act])\n",
    "fig_d = px.bar(countrywise.sort_values('Deaths').tail(top), x='Deaths',\n",
    "              y='Country', text = 'Deaths', orientation = 'h', color_discrete_sequence=[dth])\n",
    "\n",
    "fig_a = px.bar(countrywise.sort_values('Active').tail(top), x='Active',\n",
    "              y='Country', text = 'Active', orientation = 'h', color_discrete_sequence=['#434343'])\n",
    "fig_r = px.bar(countrywise.sort_values('Recovered').tail(top), x='Recovered',\n",
    "              y='Country', text = 'Recovered', orientation = 'h', color_discrete_sequence=[rec])\n",
    "\n",
    "fig_dc = px.bar(countrywise.sort_values('Deaths / 100 Cases').tail(top), x='Deaths / 100 Cases',\n",
    "              y='Country', text = 'Deaths / 100 Cases', orientation = 'h', color_discrete_sequence=['#434343'])\n",
    "fig_rc = px.bar(countrywise.sort_values('Recovered / 100 Cases').tail(top), x='Recovered / 100 Cases',\n",
    "              y='Country', text = 'Recovered / 100 Cases', orientation = 'h', color_discrete_sequence=[rec])\n",
    "\n",
    "fig_nc = px.bar(countrywise.sort_values('New Cases').tail(top), x='New Cases',\n",
    "              y='Country', text = 'New Cases', orientation = 'h', color_discrete_sequence=[rec])\n",
    "\n",
    "temp = countrywise[countrywise['Population']>1000000]\n",
    "\n",
    "fig_p = px.bar(temp.sort_values('Cases / Million People').tail(top), x = 'Cases / Million People',\n",
    "              text = 'Cases / Million People', orientation = 'h', color_discrete_sequence=['#b40398'])\n",
    "\n",
    "\n",
    "fig_wc = px.bar(countrywise.sort_values('1 week change').tail(top), x='1 week change',\n",
    "              y='Country', text = '1 week change', orientation = 'h', color_discrete_sequence=[rec])\n",
    "\n",
    "temp = countrywise[countrywise['Population']>1000000]\n",
    "\n",
    "fig_wi = px.bar(temp.sort_values('1 week % increase').tail(top), x = '1 week % increase',\n",
    "              text = '1 week % increase', orientation = 'h', color_discrete_sequence=['#b40398'])\n",
    "\n",
    "\n",
    "fig = make_subplots(rows = 5, cols = 2, shared_xaxes=False, horizontal_spacing=0.14,\n",
    "                   vertical_spacing=.1, subplot_titles=('Confirmed Cases','Deaths Reported','Recovered Cases','Active Cases'))\n",
    "fig.add_trace(fig_c['data'][0], row = 1, col = 1)\n",
    "fig.add_trace(fig_d['data'][0], row = 1, col = 2)\n",
    "\n",
    "fig.add_trace(fig_r['data'][0], row = 2, col = 1)\n",
    "fig.add_trace(fig_a['data'][0], row = 2, col = 2)\n",
    "\n",
    "fig.add_trace(fig_dc['data'][0], row = 3, col = 1)\n",
    "fig.add_trace(fig_rc['data'][0], row = 3, col = 2)\n",
    "\n",
    "fig.add_trace(fig_nc['data'][0], row = 4, col = 1)\n",
    "fig.add_trace(fig_p['data'][0], row = 4, col = 2)\n",
    "\n",
    "fig.add_trace(fig_wc['data'][0], row = 4, col = 1)\n",
    "fig.add_trace(fig_wi['data'][0], row = 4, col = 2)\n",
    "\n",
    "\n",
    "fig.update_layout(height = 3000)\n",
    "fig.show()"
   ]
  },
  {
   "cell_type": "code",
   "execution_count": null,
   "id": "870e14a4",
   "metadata": {},
   "outputs": [],
   "source": [
    "fig.write_image('images/fig.png')"
   ]
  },
  {
   "cell_type": "code",
   "execution_count": null,
   "id": "014831d0",
   "metadata": {},
   "outputs": [],
   "source": []
  },
  {
   "cell_type": "code",
   "execution_count": null,
   "id": "91e1b1d9",
   "metadata": {},
   "outputs": [],
   "source": [
    "fig = px.scatter(countrywise.sort_values('Deaths',ascending=False).head(top),\n",
    "                x='Confirmed', y='Deaths', color='Country',size = 'Confirmed',height=600,\n",
    "                text = 'Country',log_x=True,log_y=True,title='Deaths vs Confirmed Cases(Cases are on log10 scale)')\n",
    "\n",
    "fig.update_traces(textposition='top center')\n",
    "fig.update_layout(showlegend=False)\n",
    "fig.update_layout(xaxis_rangeslider_visible=True)\n",
    "\n",
    "fig.show()"
   ]
  },
  {
   "cell_type": "code",
   "execution_count": null,
   "id": "0487219a",
   "metadata": {},
   "outputs": [],
   "source": [
    "\n",
    "    "
   ]
  },
  {
   "cell_type": "markdown",
   "id": "9232825f",
   "metadata": {},
   "source": [
    "# Covid vs Other Epidemics "
   ]
  },
  {
   "cell_type": "markdown",
   "id": "55b8d718",
   "metadata": {},
   "source": [
    "# "
   ]
  },
  {
   "cell_type": "code",
   "execution_count": null,
   "id": "98cc558b",
   "metadata": {},
   "outputs": [],
   "source": [
    "#Wiki source\n",
    "\n",
    "full_latest = df[df['Date'] == max(df['Date'])]\n",
    "\n",
    "epidemics = pd.DataFrame({\n",
    "    'epidemic':['Covid-19','SARS','EBOLA','MERS','H1N1'],\n",
    "    'start_year':[2019,2004,2013,2012,2009],\n",
    "    'end_year':[2020, 2004,2016,2020,2010],\n",
    "    'confirmed':[full_latest['Confirmed'].sum(),8422,28646,2519,6724149],\n",
    "    'deaths':[full_latest['Deaths'].sum(),813,11323,866,19654]\n",
    "})\n",
    "\n",
    "epidemics['mortality'] = round((epidemics['deaths']/epidemics['confirmed'])*100,2)\n",
    "\n",
    "epidemics.head()"
   ]
  },
  {
   "cell_type": "code",
   "execution_count": null,
   "id": "9a9761ef",
   "metadata": {},
   "outputs": [],
   "source": [
    "temp = epidemics.melt(id_vars = 'epidemic', value_vars=['confirmed','deaths','mortality'],\n",
    "                     var_name='Case',value_name='Value')\n",
    "fig = px.bar(temp, x='epidemic',y='Value',color='epidemic',text = 'Value',facet_col='Case',\n",
    "            color_discrete_sequence=px.colors.qualitative.Bold)\n",
    "fig.update_traces(textposition='outside')\n",
    "fig.update_layout(uniformtext_minsize=8,uniformtext_mode='hide')\n",
    "fig.update_yaxes(showticklabels=False)\n",
    "fig.layout.yaxis2.update(matches=None)\n",
    "fig.layout.yaxis3.update(matches=None)\n",
    "fig.show()\n"
   ]
  },
  {
   "cell_type": "code",
   "execution_count": null,
   "id": "4188be78",
   "metadata": {},
   "outputs": [],
   "source": []
  }
 ],
 "metadata": {
  "kernelspec": {
   "display_name": "geo_env",
   "language": "python",
   "name": "geo_env"
  },
  "language_info": {
   "codemirror_mode": {
    "name": "ipython",
    "version": 3
   },
   "file_extension": ".py",
   "mimetype": "text/x-python",
   "name": "python",
   "nbconvert_exporter": "python",
   "pygments_lexer": "ipython3",
   "version": "3.10.4"
  }
 },
 "nbformat": 4,
 "nbformat_minor": 5
}
